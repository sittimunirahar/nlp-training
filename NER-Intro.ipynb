{
 "cells": [
  {
   "cell_type": "code",
   "execution_count": null,
   "metadata": {},
   "outputs": [],
   "source": [
    "# 1. Import spaCy’s library\n",
    "import spacy\n",
    "\n",
    "# 2. Load spaCy’s model\n",
    "nlp = spacy.load(\"en_core_web_lg\")\n",
    "\n",
    "# 3. Create spaCy’s object that contains processing pipeline (usually called as NLP)\n",
    "doc = nlp(\"Apple is looking at buying U.K. startup for $1 billion\")\n",
    "\n",
    "# 4. Access entities in spaCy’s doc object, print text, pos. of start character, pos. of end character and labels extracted from the text\n",
    "for ent in doc.ents:\n",
    "    print(ent.text, ent.start_char, ent.end_char, ent.label_)"
   ]
  },
  {
   "cell_type": "code",
   "execution_count": null,
   "metadata": {},
   "outputs": [],
   "source": [
    "# 1. Import spaCy and pandas library\n",
    "import spacy\n",
    "import pandas as pd\n",
    "\n",
    "# 2. Load pandas, read dataset from file and limit to 500 rows\n",
    "data = pd.read_csv(\"Datasets/sanction.csv\", nrows=500) \n",
    "\n",
    "# 3. View the csv file\n",
    "display(data.head())"
   ]
  },
  {
   "cell_type": "code",
   "execution_count": null,
   "metadata": {},
   "outputs": [],
   "source": [
    "# 1. Import spaCy and pandas library\n",
    "import spacy\n",
    "import pandas as pd\n",
    "\n",
    "# 2. Load pandas, read dataset from file and limit to 500 rows\n",
    "data = pd.read_csv(\"Datasets/sanction.csv\", nrows=500) \n",
    "\n",
    "# 3. View the csv file\n",
    "display(data.head())\n",
    "\n",
    "# 4. Load spaCy’s model\n",
    "nlp = spacy.load(\"en_core_web_sm\", disable=['parser', 'tagger'])\n",
    "\n",
    "# 5. Iterate _source.content column and read as string\n",
    "for data in iter(df['_source.content'].astype(str)):\n",
    "    # 6. Load each row as spaCy's object \n",
    "    doc = nlp(data)\n",
    "    \n",
    "    # 7. Print entities\n",
    "    for ent in doc.ents:\n",
    "        print(ent.text, ent.label_)"
   ]
  },
  {
   "cell_type": "code",
   "execution_count": null,
   "metadata": {},
   "outputs": [],
   "source": [
    "# 1. Import spaCy and pandas library\n",
    "import spacy\n",
    "import pandas as pd\n",
    "from spacy import displacy\n",
    "\n",
    "# 2. Load pandas, read dataset from file\n",
    "df = pd.read_csv(\"Datasets/sanction.csv\", nrows=500) \n",
    "\n",
    "# 3. View the csv file\n",
    "#display(df.head())\n",
    "\n",
    "# 4. Load spaCy’s model\n",
    "nlp = spacy.load(\"en_core_web_sm\", disable=['parser', 'tagger'])\n",
    "\n",
    "\n",
    "# 5. Iterate _source.content column and read as string\n",
    "for data in iter(df['_source.content'].astype(str)):\n",
    "    # 6. Load each row as spaCy's object \n",
    "    doc = nlp(data)\n",
    "    displacy.render(doc, style=\"ent\", jupyter=True)\n",
    "    \n",
    "    # 7. \n",
    "#     for ent in doc.ents:\n",
    "#         print(ent.text, ent.label_)"
   ]
  }
 ],
 "metadata": {
  "kernelspec": {
   "display_name": "Python 3",
   "language": "python",
   "name": "python3"
  },
  "language_info": {
   "codemirror_mode": {
    "name": "ipython",
    "version": 3
   },
   "file_extension": ".py",
   "mimetype": "text/x-python",
   "name": "python",
   "nbconvert_exporter": "python",
   "pygments_lexer": "ipython3",
   "version": "3.7.3"
  }
 },
 "nbformat": 4,
 "nbformat_minor": 2
}
