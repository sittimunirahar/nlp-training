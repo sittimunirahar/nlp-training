{
  "nbformat": 4,
  "nbformat_minor": 0,
  "metadata": {
    "colab": {
      "name": "untitled.ipynb",
      "provenance": [],
      "collapsed_sections": [],
      "include_colab_link": true
    },
    "kernelspec": {
      "name": "python3",
      "display_name": "Python 3"
    }
  },
  "cells": [
    {
      "cell_type": "markdown",
      "metadata": {
        "id": "view-in-github",
        "colab_type": "text"
      },
      "source": [
        "<a href=\"https://colab.research.google.com/github/sittimunirahar/nlp-training/blob/master/untitled.ipynb\" target=\"_parent\"><img src=\"https://colab.research.google.com/assets/colab-badge.svg\" alt=\"Open In Colab\"/></a>"
      ]
    },
    {
      "cell_type": "code",
      "metadata": {
        "id": "YeJlIkmpCCeh",
        "colab_type": "code",
        "colab": {}
      },
      "source": [
        "# 1. run this block to check if spacy is installed and the version is 2.2\n",
        "!python -m spacy validate "
      ],
      "execution_count": 0,
      "outputs": []
    },
    {
      "cell_type": "code",
      "metadata": {
        "id": "Y2aCrKE0OvkA",
        "colab_type": "code",
        "colab": {}
      },
      "source": [
        "# 2. run this block if spacy version is not 2.2\n",
        "!pip install spacy==2.2"
      ],
      "execution_count": 0,
      "outputs": []
    },
    {
      "cell_type": "code",
      "metadata": {
        "id": "SOwhLbmsPF8M",
        "colab_type": "code",
        "colab": {}
      },
      "source": [
        "# 3. run this block if spacy's model \"en_core_web_sm\" is not installed, and model version is not 2.2\n",
        "!python -m spacy download en_core_web_sm"
      ],
      "execution_count": 0,
      "outputs": []
    }
  ]
}